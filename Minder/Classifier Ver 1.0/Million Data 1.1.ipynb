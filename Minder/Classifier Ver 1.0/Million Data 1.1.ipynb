{
 "cells": [
  {
   "cell_type": "markdown",
   "metadata": {},
   "source": [
    "# Million Rows Data Analysis"
   ]
  },
  {
   "cell_type": "markdown",
   "metadata": {},
   "source": [
    "## Part I: Separating broad categories, Gender based behavior"
   ]
  },
  {
   "cell_type": "markdown",
   "metadata": {},
   "source": [
    "Preliminaries, as usual."
   ]
  },
  {
   "cell_type": "code",
   "execution_count": null,
   "metadata": {
    "collapsed": true
   },
   "outputs": [],
   "source": [
    "import os\n",
    "import datetime\n",
    "\n",
    "import numpy as np\n",
    "import pandas as pd\n",
    "\n",
    "import matplotlib.pyplot as plt\n",
    "import seaborn as sns\n",
    "\n",
    "from sklearn import tree\n",
    "from sklearn.ensemble import RandomForestClassifier\n",
    "from sklearn.model_selection import train_test_split\n",
    "\n",
    "\n",
    "\n",
    "# remove warnings\n",
    "import warnings\n",
    "warnings.filterwarnings('ignore')\n",
    "pd.options.mode.chained_assignment = None\n",
    "# ---\n",
    "\n",
    "pd.options.display.max_columns= 2000\n",
    "\n",
    "%matplotlib inline"
   ]
  },
  {
   "cell_type": "code",
   "execution_count": null,
   "metadata": {
    "collapsed": true
   },
   "outputs": [],
   "source": [
    "data=pd.read_csv(\"1M.csv\")"
   ]
  },
  {
   "cell_type": "code",
   "execution_count": null,
   "metadata": {},
   "outputs": [],
   "source": [
    "print data.shape\n",
    "#print data.dtypes\n",
    "data.p2_liked.describe()"
   ]
  },
  {
   "cell_type": "markdown",
   "metadata": {},
   "source": [
    "### Removing useless columns"
   ]
  },
  {
   "cell_type": "code",
   "execution_count": null,
   "metadata": {
    "collapsed": true
   },
   "outputs": [],
   "source": [
    "useless_columns=['answeredFromTelegram', 'confirmed',\n",
    "                   'p1_timezone', 'p2_timezone', 'unmatched']\n",
    "data.drop(useless_columns, axis=1, inplace=True)"
   ]
  },
  {
   "cell_type": "markdown",
   "metadata": {},
   "source": [
    "### Handeling [p2_liked]\n",
    "Since these rows are contain two sets of data, let us duplicate them, and then remerge them with main data after switching [p1\\_...] and [p2\\_...] data. That will make [p2_liked] useless and we will delete it."
   ]
  },
  {
   "cell_type": "code",
   "execution_count": null,
   "metadata": {},
   "outputs": [],
   "source": [
    "datap2=data[data.p2_liked>=0]\n",
    "datap2.shape"
   ]
  },
  {
   "cell_type": "code",
   "execution_count": null,
   "metadata": {},
   "outputs": [],
   "source": [
    "print sorted(list(data))"
   ]
  },
  {
   "cell_type": "code",
   "execution_count": null,
   "metadata": {
    "collapsed": true
   },
   "outputs": [],
   "source": [
    "p2_cols={'p1_age' :  'p2_age' ,\n",
    " 'p1_country' :  'p2_country' ,\n",
    " 'p1_education' :  'p2_education' ,\n",
    " 'p1_ethnicity' :  'p2_ethnicity' ,\n",
    " 'p1_flavor' :  'p2_flavor' ,\n",
    " 'p1_gender' :  'p2_gender' ,\n",
    " 'p1_id' :  'p2_id' ,\n",
    " 'p1_languages' :  'p2_languages' ,\n",
    " 'p1_liked' :  'p2_liked' ,\n",
    " 'p1_premium' :  'p2_premium' ,\n",
    " 'p1_religiosity' :  'p2_religiosity' ,\n",
    " 'p2_age' :  'p1_age' ,\n",
    " 'p2_country' :  'p1_country' ,\n",
    " 'p2_education' :  'p1_education' ,\n",
    " 'p2_ethnicity' :  'p1_ethnicity' ,\n",
    " 'p2_flavor' :  'p1_flavor' ,\n",
    " 'p2_gender' :  'p1_gender' ,\n",
    " 'p2_id' :  'p1_id' ,\n",
    " 'p2_languages' :  'p1_languages' ,\n",
    " 'p2_liked' :  'p1_liked' ,\n",
    " 'p2_premium' :  'p1_premium' ,\n",
    " 'p2_religiosity' :  'p1_religiosity' }\n",
    "datap2n= datap2.rename(columns=p2_cols)"
   ]
  },
  {
   "cell_type": "code",
   "execution_count": null,
   "metadata": {},
   "outputs": [],
   "source": [
    "data2 = pd.concat([data, datap2n], axis=0);\n",
    "data2.shape"
   ]
  },
  {
   "cell_type": "code",
   "execution_count": null,
   "metadata": {},
   "outputs": [],
   "source": [
    "data2= data2.rename(columns={'p1_liked':'liked'})\n",
    "data2.liked.describe()"
   ]
  },
  {
   "cell_type": "code",
   "execution_count": null,
   "metadata": {},
   "outputs": [],
   "source": [
    "datam=data2[(data2.p1_gender=='male') & (data2.p2_gender=='female')]\n",
    "datam.shape"
   ]
  },
  {
   "cell_type": "code",
   "execution_count": null,
   "metadata": {},
   "outputs": [],
   "source": [
    "dataf=data2[(data2.p1_gender=='female') & (data2.p2_gender=='male')]\n",
    "dataf.shape"
   ]
  },
  {
   "cell_type": "markdown",
   "metadata": {},
   "source": [
    "So the following rows will be ignored, and we will train the classifiers independantly for men vs women."
   ]
  },
  {
   "cell_type": "code",
   "execution_count": null,
   "metadata": {},
   "outputs": [],
   "source": [
    "data2[((data2.p1_gender!='male')|(data2.p2_gender!='female')) & ((data2.p1_gender!='female')|(data2.p2_gender!='male'))].shape"
   ]
  },
  {
   "cell_type": "code",
   "execution_count": null,
   "metadata": {},
   "outputs": [],
   "source": [
    "datam.p1_gender.describe()"
   ]
  },
  {
   "cell_type": "markdown",
   "metadata": {},
   "source": [
    "Removing more useless columns."
   ]
  },
  {
   "cell_type": "code",
   "execution_count": null,
   "metadata": {
    "collapsed": true
   },
   "outputs": [],
   "source": [
    "useless_columns=['p1_gender', 'p2_gender', 'p2_liked', 'p1_id', 'p2_id']\n",
    "datam.drop(useless_columns, axis=1, inplace=True)\n",
    "dataf.drop(useless_columns, axis=1, inplace=True)"
   ]
  },
  {
   "cell_type": "code",
   "execution_count": null,
   "metadata": {},
   "outputs": [],
   "source": [
    "print datam.shape\n",
    "print dataf.shape"
   ]
  },
  {
   "cell_type": "markdown",
   "metadata": {},
   "source": [
    "## Behavior analysis\n",
    "Here is a rationale of separating the two data sets. Their behavior is completely different."
   ]
  },
  {
   "cell_type": "code",
   "execution_count": null,
   "metadata": {},
   "outputs": [],
   "source": [
    "dmvc = datam.liked.value_counts()\n",
    "dfvc = dataf.liked.value_counts()\n",
    "df = pd.DataFrame([dmvc,dfvc])\n",
    "df.index = ['Males','Females']\n",
    "df.plot(kind='bar', stacked=True);"
   ]
  },
  {
   "cell_type": "code",
   "execution_count": null,
   "metadata": {},
   "outputs": [],
   "source": [
    "dmm = datam.liked.mean()\n",
    "dfm = dataf.liked.mean()\n",
    "df = pd.DataFrame([dmm,dfm])\n",
    "df.index = ['Males','Females']\n",
    "df.plot(kind='bar', stacked=True);"
   ]
  },
  {
   "cell_type": "markdown",
   "metadata": {},
   "source": [
    "**Save** now , and let the analysis continue on separate data sets."
   ]
  },
  {
   "cell_type": "code",
   "execution_count": null,
   "metadata": {
    "collapsed": true
   },
   "outputs": [],
   "source": [
    "datam.to_csv(\"1M-datam.csv\", index=False)\n",
    "dataf.to_csv(\"1M-dataf.csv\", index=False)"
   ]
  },
  {
   "cell_type": "code",
   "execution_count": null,
   "metadata": {},
   "outputs": [],
   "source": [
    "print datam.liked.sum(), \"---\", datam.liked.mean()\n",
    "print dataf.liked.sum(), \"---\", dataf.liked.mean()"
   ]
  },
  {
   "cell_type": "markdown",
   "metadata": {},
   "source": [
    "Males like 58.65% of the profiles shown to them, whereas females like only 5.7%. Even less than **one-tenth** compared to males."
   ]
  }
 ],
 "metadata": {
  "kernelspec": {
   "display_name": "Python 2",
   "language": "python",
   "name": "python2"
  },
  "language_info": {
   "codemirror_mode": {
    "name": "ipython",
    "version": 2
   },
   "file_extension": ".py",
   "mimetype": "text/x-python",
   "name": "python",
   "nbconvert_exporter": "python",
   "pygments_lexer": "ipython2",
   "version": "2.7.12"
  }
 },
 "nbformat": 4,
 "nbformat_minor": 2
}
