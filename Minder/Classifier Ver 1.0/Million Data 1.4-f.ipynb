{
 "cells": [
  {
   "cell_type": "markdown",
   "metadata": {},
   "source": [
    "# Million Rows Data Analysis"
   ]
  },
  {
   "cell_type": "markdown",
   "metadata": {},
   "source": [
    "## Part IV: Training/Saving and Testing (Female)"
   ]
  },
  {
   "cell_type": "markdown",
   "metadata": {},
   "source": [
    "Preliminaries, as usual."
   ]
  },
  {
   "cell_type": "code",
   "execution_count": 1,
   "metadata": {
    "collapsed": true
   },
   "outputs": [],
   "source": [
    "import os\n",
    "import datetime\n",
    "import time\n",
    "\n",
    "import numpy as np\n",
    "import pandas as pd\n",
    "\n",
    "import matplotlib.pyplot as plt\n",
    "import seaborn as sns\n",
    "\n",
    "from sklearn import tree\n",
    "from sklearn.ensemble import RandomForestClassifier\n",
    "from sklearn.model_selection import train_test_split\n",
    "\n",
    "from sklearn.metrics import classification_report,confusion_matrix\n",
    "from sklearn.externals import joblib\n",
    "\n",
    "# remove warnings\n",
    "import warnings\n",
    "warnings.filterwarnings('ignore')\n",
    "pd.options.mode.chained_assignment = None\n",
    "# ---\n",
    "\n",
    "pd.options.display.max_columns= 2000\n",
    "\n",
    "%matplotlib inline"
   ]
  },
  {
   "cell_type": "code",
   "execution_count": 2,
   "metadata": {
    "collapsed": true
   },
   "outputs": [],
   "source": [
    "datafile=\"1M-dataf-categorical-all\"\n",
    "data=pd.read_csv(datafile+\".csv\")"
   ]
  },
  {
   "cell_type": "code",
   "execution_count": 3,
   "metadata": {},
   "outputs": [
    {
     "name": "stdout",
     "output_type": "stream",
     "text": [
      "(344951, 127)\n",
      "Percentage of likes: 5.74%\n"
     ]
    }
   ],
   "source": [
    "print data.shape\n",
    "print (\"Percentage of likes: {:.2%}\".format(data.liked.mean()))\n",
    "#list(data)"
   ]
  },
  {
   "cell_type": "markdown",
   "metadata": {
    "collapsed": true
   },
   "source": [
    "## Creating training and test data sets\n",
    "Let us separate Train and Test data."
   ]
  },
  {
   "cell_type": "code",
   "execution_count": 4,
   "metadata": {
    "collapsed": true
   },
   "outputs": [],
   "source": [
    "num_test = 0.5\n",
    "train, test, train_target, test_target = train_test_split(data.drop(['liked'], axis=1), data.liked, test_size=num_test, random_state=23)"
   ]
  },
  {
   "cell_type": "code",
   "execution_count": 5,
   "metadata": {},
   "outputs": [
    {
     "name": "stdout",
     "output_type": "stream",
     "text": [
      "Training Data (rows, columns): (172475, 126)\n",
      "Testing Data (rows, columns): (172476, 126)\n"
     ]
    }
   ],
   "source": [
    "train_features = train.values\n",
    "test_features = test.values\n",
    "\n",
    "print \"Training Data (rows, columns): {}\".format(str(train_features.shape))\n",
    "print \"Testing Data (rows, columns): {}\".format(str(test_features.shape))"
   ]
  },
  {
   "cell_type": "markdown",
   "metadata": {},
   "source": [
    "... ready ..."
   ]
  },
  {
   "cell_type": "markdown",
   "metadata": {},
   "source": [
    "## Random Forest"
   ]
  },
  {
   "cell_type": "markdown",
   "metadata": {},
   "source": [
    "### Train and Save the model"
   ]
  },
  {
   "cell_type": "code",
   "execution_count": 22,
   "metadata": {},
   "outputs": [
    {
     "name": "stdout",
     "output_type": "stream",
     "text": [
      "Training Time: 9.69 seconds.\n",
      "Classifier Score: 98.55%\n"
     ]
    }
   ],
   "source": [
    "clfr = RandomForestClassifier(max_depth = 35, min_samples_split=2, n_estimators = 20, random_state = 2)\n",
    "\n",
    "start = time.time()\n",
    "model = clfr.fit(train_features,train_target)\n",
    "end = time.time()\n",
    "\n",
    "print(\"Training Time: {:.2f} seconds.\".format(end - start)) \n",
    "print(\"Classifier Score: {:.2%}\".format(model.score(train_features,train_target))) \n",
    "joblib.dump(model, datafile+'-RFclf.pkl');"
   ]
  },
  {
   "cell_type": "markdown",
   "metadata": {},
   "source": [
    "### Reload Model and Predict"
   ]
  },
  {
   "cell_type": "code",
   "execution_count": 23,
   "metadata": {},
   "outputs": [
    {
     "name": "stdout",
     "output_type": "stream",
     "text": [
      "Accuracy: 94.21%\n"
     ]
    }
   ],
   "source": [
    "clf = joblib.load(\"1M-dataf-categorical-all-RFclf.pkl\") \n",
    "pred = clf.predict(test_features)\n",
    "print(\"Accuracy: {:.2%}\".format((test_target.values==pred).mean()))"
   ]
  },
  {
   "cell_type": "code",
   "execution_count": 24,
   "metadata": {},
   "outputs": [
    {
     "name": "stdout",
     "output_type": "stream",
     "text": [
      " True Negative 161552 (93.67%)\n",
      "False Positive 1003 (0.58%)\n",
      "False Negative 8990 (5.21%)\n",
      " True Positive 931 (0.54%)\n"
     ]
    }
   ],
   "source": [
    "aq1=(test_target.values==pred)&(test_target.values==0)\n",
    "aq2=(test_target.values!=pred)&(test_target.values==0)\n",
    "aq3=(test_target.values!=pred)&(test_target.values==1)\n",
    "aq4=(test_target.values==pred)&(test_target.values==1)\n",
    "print \" True Negative {} ({:.2%})\".format(aq1.sum(), aq1.mean())\n",
    "print \"False Positive {} ({:.2%})\".format(aq2.sum(), aq2.mean())\n",
    "print \"False Negative {} ({:.2%})\".format(aq3.sum(), aq3.mean())\n",
    "print \" True Positive {} ({:.2%})\".format(aq4.sum(), aq4.mean())"
   ]
  },
  {
   "cell_type": "code",
   "execution_count": 9,
   "metadata": {
    "collapsed": true
   },
   "outputs": [],
   "source": [
    "#clf.score(test_features,test_target)\n",
    "#pred_RandomForestClassifier_prob = calsfr_t.predict_proba(test_features)\n",
    "#confusion_matrix(y_test,predictions)\n",
    "#classification_report(y_test,predictions)"
   ]
  }
 ],
 "metadata": {
  "kernelspec": {
   "display_name": "Python 2",
   "language": "python",
   "name": "python2"
  },
  "language_info": {
   "codemirror_mode": {
    "name": "ipython",
    "version": 2
   },
   "file_extension": ".py",
   "mimetype": "text/x-python",
   "name": "python",
   "nbconvert_exporter": "python",
   "pygments_lexer": "ipython2",
   "version": "2.7.12"
  }
 },
 "nbformat": 4,
 "nbformat_minor": 2
}
