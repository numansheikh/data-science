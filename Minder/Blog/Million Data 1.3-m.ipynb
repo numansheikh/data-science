{
 "cells": [
  {
   "cell_type": "markdown",
   "metadata": {},
   "source": [
    "# Million Rows Data Analysis"
   ]
  },
  {
   "cell_type": "markdown",
   "metadata": {},
   "source": [
    "## Part III: Gender Behavior, No Analysis, All feilds (Male)"
   ]
  },
  {
   "cell_type": "markdown",
   "metadata": {},
   "source": [
    "Ok This is different from 1.2 since i am not compressing any data, using all."
   ]
  },
  {
   "cell_type": "markdown",
   "metadata": {},
   "source": [
    "Preliminaries, as usual."
   ]
  },
  {
   "cell_type": "code",
   "execution_count": 1,
   "metadata": {
    "collapsed": true
   },
   "outputs": [],
   "source": [
    "import os\n",
    "import datetime\n",
    "\n",
    "import numpy as np\n",
    "import pandas as pd\n",
    "\n",
    "import matplotlib.pyplot as plt\n",
    "import seaborn as sns\n",
    "\n",
    "# remove warnings\n",
    "import warnings\n",
    "warnings.filterwarnings('ignore')\n",
    "pd.options.mode.chained_assignment = None\n",
    "# ---\n",
    "\n",
    "pd.options.display.max_columns= 2000\n",
    "\n",
    "%matplotlib inline"
   ]
  },
  {
   "cell_type": "code",
   "execution_count": 2,
   "metadata": {
    "collapsed": true
   },
   "outputs": [],
   "source": [
    "datafile=\"1M-data\"+\"m\"\n",
    "data=pd.read_csv(datafile+\".csv\")"
   ]
  },
  {
   "cell_type": "code",
   "execution_count": 3,
   "metadata": {},
   "outputs": [
    {
     "name": "stdout",
     "output_type": "stream",
     "text": [
      "(695762, 17)\n",
      "['p1_age', 'p1_country', 'p1_education', 'p1_ethnicity', 'p1_flavor', 'p1_languages', 'liked', 'p1_premium', 'p1_religiosity', 'p2_age', 'p2_country', 'p2_education', 'p2_ethnicity', 'p2_flavor', 'p2_languages', 'p2_premium', 'p2_religiosity']\n",
      "0.586549710964\n"
     ]
    },
    {
     "data": {
      "text/plain": [
       "count     695762\n",
       "unique         2\n",
       "top         True\n",
       "freq      408099\n",
       "Name: liked, dtype: object"
      ]
     },
     "execution_count": 3,
     "metadata": {},
     "output_type": "execute_result"
    }
   ],
   "source": [
    "print data.shape\n",
    "print list(data)\n",
    "print data.liked.mean()\n",
    "data.liked.describe()"
   ]
  },
  {
   "cell_type": "code",
   "execution_count": 4,
   "metadata": {
    "collapsed": true
   },
   "outputs": [],
   "source": [
    "data.p1_age.fillna(data.p1_age.median(), inplace=True)\n",
    "data.p2_age.fillna(data.p2_age.median(), inplace=True)\n",
    "data.p1_religiosity.fillna(data.p1_religiosity.mean(), inplace=True)\n",
    "data.p2_religiosity.fillna(data.p2_religiosity.mean(), inplace=True)"
   ]
  },
  {
   "cell_type": "code",
   "execution_count": 5,
   "metadata": {
    "collapsed": true
   },
   "outputs": [],
   "source": [
    "data=data.round({'p1_religiosity': 0, 'p2_religiosity': 0})\n",
    "data.p1_religiosity=data.p1_religiosity.astype(int)\n",
    "data.p2_religiosity=data.p2_religiosity.astype(int)"
   ]
  },
  {
   "cell_type": "code",
   "execution_count": 6,
   "metadata": {
    "collapsed": true
   },
   "outputs": [],
   "source": [
    "dt = data[['p1_age', 'p2_age', 'p1_religiosity', 'p2_religiosity']].copy()"
   ]
  },
  {
   "cell_type": "markdown",
   "metadata": {},
   "source": [
    "#### Countries"
   ]
  },
  {
   "cell_type": "code",
   "execution_count": 7,
   "metadata": {
    "collapsed": true
   },
   "outputs": [],
   "source": [
    "dsc=(data['p1_country']==data['p2_country'])\n",
    "dsc.rename('same_country', inplace=True)\n",
    "freq_countries=[\"US\",\"CA\",\"GB\",\"AU\",\"PK\",\"DE\",\"NZ\",\"AE\",\"IL\",\"CH\",\"HU\",\"MY\",\"ID\",\"EG\",\"IT\",\"IN\", \"XX\"]"
   ]
  },
  {
   "cell_type": "code",
   "execution_count": 8,
   "metadata": {
    "collapsed": true
   },
   "outputs": [],
   "source": [
    "data.p1_country[(data['p1_country']!=\"US\")&(data['p1_country']!=\"CA\")&(data['p1_country']!=\"GB\")&(data['p1_country']!=\"AU\")&(data['p1_country']!=\"PK\")&(data['p1_country']!=\"DE\")&(data['p1_country']!=\"NZ\")&(data['p1_country']!=\"AE\")&(data['p1_country']!=\"IL\")&(data['p1_country']!=\"CH\")&(data['p1_country']!=\"HU\")&(data['p1_country']!=\"MY\")&(data['p1_country']!=\"ID\")&(data['p1_country']!=\"EG\")&(data['p1_country']!=\"IT\")&(data['p1_country']!=\"IN\")]='XX'\n",
    "data.p2_country[(data['p2_country']!=\"US\")&(data['p2_country']!=\"CA\")&(data['p2_country']!=\"GB\")&(data['p2_country']!=\"AU\")&(data['p2_country']!=\"PK\")&(data['p2_country']!=\"DE\")&(data['p2_country']!=\"NZ\")&(data['p2_country']!=\"AE\")&(data['p2_country']!=\"IL\")&(data['p2_country']!=\"CH\")&(data['p2_country']!=\"HU\")&(data['p2_country']!=\"MY\")&(data['p2_country']!=\"ID\")&(data['p2_country']!=\"EG\")&(data['p2_country']!=\"IT\")&(data['p2_country']!=\"IN\")]='XX'"
   ]
  },
  {
   "cell_type": "code",
   "execution_count": 9,
   "metadata": {
    "collapsed": true
   },
   "outputs": [],
   "source": [
    "dt = pd.concat([dt,dsc.astype(int)],axis=1)"
   ]
  },
  {
   "cell_type": "code",
   "execution_count": 10,
   "metadata": {
    "collapsed": true
   },
   "outputs": [],
   "source": [
    "datac1 = pd.get_dummies(data.p1_country.astype('category',categories=freq_countries), prefix=\"ct1\")\n",
    "dt = pd.concat([dt,datac1],axis=1)\n",
    "datac2 = pd.get_dummies(data.p2_country.astype('category',categories=freq_countries), prefix=\"ct2\")\n",
    "dt = pd.concat([dt,datac2],axis=1)"
   ]
  },
  {
   "cell_type": "markdown",
   "metadata": {},
   "source": [
    "#### Education"
   ]
  },
  {
   "cell_type": "code",
   "execution_count": 11,
   "metadata": {
    "collapsed": true
   },
   "outputs": [],
   "source": [
    "datae1 = pd.get_dummies(data.p1_education, prefix=\"edu1\")\n",
    "dt = pd.concat([dt,datae1],axis=1)\n",
    "datae2 = pd.get_dummies(data.p2_education, prefix=\"edu2\")\n",
    "dt = pd.concat([dt,datae2],axis=1)"
   ]
  },
  {
   "cell_type": "markdown",
   "metadata": {},
   "source": [
    "#### Religion"
   ]
  },
  {
   "cell_type": "code",
   "execution_count": 12,
   "metadata": {
    "collapsed": true
   },
   "outputs": [],
   "source": [
    "datar1 = pd.get_dummies(data.p1_flavor, prefix=\"rel\")\n",
    "dt = pd.concat([dt,datar1],axis=1)\n",
    "datar2 = pd.get_dummies(data.p2_flavor, prefix=\"rel\")\n",
    "dt = pd.concat([dt,datar2],axis=1)"
   ]
  },
  {
   "cell_type": "markdown",
   "metadata": {},
   "source": [
    "#### Premium User"
   ]
  },
  {
   "cell_type": "code",
   "execution_count": 13,
   "metadata": {
    "collapsed": true
   },
   "outputs": [],
   "source": [
    "dt = pd.concat([dt,data.p2_premium.astype(int)],axis=1)"
   ]
  },
  {
   "cell_type": "markdown",
   "metadata": {},
   "source": [
    "OK  \n",
    "We are done with the standard data. Multi valued data needs processing. Let us create a new Data Frame and do some analysis there."
   ]
  },
  {
   "cell_type": "markdown",
   "metadata": {},
   "source": [
    "#### Languages"
   ]
  },
  {
   "cell_type": "code",
   "execution_count": 14,
   "metadata": {
    "collapsed": true
   },
   "outputs": [],
   "source": [
    "dfl = pd.DataFrame()\n",
    "dl1=data.p1_languages\n",
    "dl2=data.p2_languages\n",
    "\n",
    "langs=[\"Arabic\", \"Urdu\", \"Turkish\", \"Spanish\", \"Russian\", \"Pashtu\", \"Malaysian\", \"Italian\", \"Indonesian\", \"Hindi\", \"German\", \"French\", \"Filipino\", \"Farsi\", \"English\", \"Dutch\", \"Chinese\", \"Bengali\"]\n",
    "\n",
    "for l in langs:\n",
    "    ln1=\"lang1_\"+l\n",
    "    ln2=\"lang2_\"+l\n",
    "    dfl[ln1]=(dl1.str.contains(l)==True)\n",
    "    dfl[ln2]=(dl2.str.contains(l)==True)"
   ]
  },
  {
   "cell_type": "markdown",
   "metadata": {},
   "source": [
    "#### Ethnicity"
   ]
  },
  {
   "cell_type": "code",
   "execution_count": 15,
   "metadata": {
    "collapsed": true
   },
   "outputs": [],
   "source": [
    "dfe = pd.DataFrame()\n",
    "de1=data.p2_ethnicity\n",
    "de2=data.p2_ethnicity\n",
    "\n",
    "ethnics=[\"Afghan\", \"African American\", \"Arab (Khaleej)\", \"Arab (Levant)\", \"Arab (North Africa)\", \"Caucasian\", \"East African\", \"East Asian\", \"Hispanic\", \"Kurdish\", \"Persian\", \"South Asian\", \"Sub-Sahara African\", \"Turkish\", \"West African\", \"Other\"]\n",
    "\n",
    "for e in ethnics:\n",
    "    et1=\"ethn1_\"+e\n",
    "    et2=\"ethn2_\"+e\n",
    "    dfe[et1]=(de1.str.contains(e)==True)\n",
    "    dfe[et2]=(de2.str.contains(e)==True)"
   ]
  },
  {
   "cell_type": "code",
   "execution_count": 16,
   "metadata": {
    "collapsed": true
   },
   "outputs": [],
   "source": [
    "dt = pd.concat([dt,dfl.astype(int)],axis=1)\n",
    "dt = pd.concat([dt,dfe.astype(int)],axis=1)"
   ]
  },
  {
   "cell_type": "code",
   "execution_count": 17,
   "metadata": {},
   "outputs": [
    {
     "name": "stdout",
     "output_type": "stream",
     "text": [
      "(695762, 126)\n"
     ]
    }
   ],
   "source": [
    "print dt.shape"
   ]
  },
  {
   "cell_type": "markdown",
   "metadata": {},
   "source": [
    "**Save** now, but add the **like** data first:"
   ]
  },
  {
   "cell_type": "code",
   "execution_count": 18,
   "metadata": {
    "collapsed": true
   },
   "outputs": [],
   "source": [
    "dt = pd.concat([dt,data.liked.astype(int)],axis=1)\n",
    "dt.to_csv(datafile+\"-categorical-all.csv\", index=False)"
   ]
  },
  {
   "cell_type": "code",
   "execution_count": 19,
   "metadata": {},
   "outputs": [
    {
     "name": "stdout",
     "output_type": "stream",
     "text": [
      "127\n",
      "['ct1_AE', 'ct1_AU', 'ct1_CA', 'ct1_CH', 'ct1_DE', 'ct1_EG', 'ct1_GB', 'ct1_HU', 'ct1_ID', 'ct1_IL', 'ct1_IN', 'ct1_IT', 'ct1_MY', 'ct1_NZ', 'ct1_PK', 'ct1_US', 'ct1_XX', 'ct2_AE', 'ct2_AU', 'ct2_CA', 'ct2_CH', 'ct2_DE', 'ct2_EG', 'ct2_GB', 'ct2_HU', 'ct2_ID', 'ct2_IL', 'ct2_IN', 'ct2_IT', 'ct2_MY', 'ct2_NZ', 'ct2_PK', 'ct2_US', 'ct2_XX', 'edu1_college_degree', 'edu1_graduate_degree', 'edu1_high_school', 'edu1_other', 'edu1_undergraduate', 'edu2_college_degree', 'edu2_graduate_degree', 'edu2_high_school', 'edu2_other', 'edu2_undergraduate', 'ethn1_Afghan', 'ethn1_African American', 'ethn1_Arab (Khaleej)', 'ethn1_Arab (Levant)', 'ethn1_Arab (North Africa)', 'ethn1_Caucasian', 'ethn1_East African', 'ethn1_East Asian', 'ethn1_Hispanic', 'ethn1_Kurdish', 'ethn1_Other', 'ethn1_Persian', 'ethn1_South Asian', 'ethn1_Sub-Sahara African', 'ethn1_Turkish', 'ethn1_West African', 'ethn2_Afghan', 'ethn2_African American', 'ethn2_Arab (Khaleej)', 'ethn2_Arab (Levant)', 'ethn2_Arab (North Africa)', 'ethn2_Caucasian', 'ethn2_East African', 'ethn2_East Asian', 'ethn2_Hispanic', 'ethn2_Kurdish', 'ethn2_Other', 'ethn2_Persian', 'ethn2_South Asian', 'ethn2_Sub-Sahara African', 'ethn2_Turkish', 'ethn2_West African', 'lang1_Arabic', 'lang1_Bengali', 'lang1_Chinese', 'lang1_Dutch', 'lang1_English', 'lang1_Farsi', 'lang1_Filipino', 'lang1_French', 'lang1_German', 'lang1_Hindi', 'lang1_Indonesian', 'lang1_Italian', 'lang1_Malaysian', 'lang1_Pashtu', 'lang1_Russian', 'lang1_Spanish', 'lang1_Turkish', 'lang1_Urdu', 'lang2_Arabic', 'lang2_Bengali', 'lang2_Chinese', 'lang2_Dutch', 'lang2_English', 'lang2_Farsi', 'lang2_Filipino', 'lang2_French', 'lang2_German', 'lang2_Hindi', 'lang2_Indonesian', 'lang2_Italian', 'lang2_Malaysian', 'lang2_Pashtu', 'lang2_Russian', 'lang2_Spanish', 'lang2_Turkish', 'lang2_Urdu', 'liked', 'p1_age', 'p1_religiosity', 'p2_age', 'p2_premium', 'p2_religiosity', 'rel_just_muslim', 'rel_just_muslim', 'rel_other', 'rel_other', 'rel_shia', 'rel_shia', 'rel_sunni', 'rel_sunni', 'same_country']\n"
     ]
    }
   ],
   "source": [
    "print len(list(dt))\n",
    "print sorted(list(dt))"
   ]
  }
 ],
 "metadata": {
  "kernelspec": {
   "display_name": "Python 2",
   "language": "python",
   "name": "python2"
  },
  "language_info": {
   "codemirror_mode": {
    "name": "ipython",
    "version": 2
   },
   "file_extension": ".py",
   "mimetype": "text/x-python",
   "name": "python",
   "nbconvert_exporter": "python",
   "pygments_lexer": "ipython2",
   "version": "2.7.12"
  }
 },
 "nbformat": 4,
 "nbformat_minor": 2
}
