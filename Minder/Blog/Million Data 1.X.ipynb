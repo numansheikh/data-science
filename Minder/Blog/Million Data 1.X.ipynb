{
 "cells": [
  {
   "cell_type": "markdown",
   "metadata": {},
   "source": [
    "# Million Rows Data Analysis"
   ]
  },
  {
   "cell_type": "markdown",
   "metadata": {},
   "source": [
    "## Part X: Loading and Testing Engine"
   ]
  },
  {
   "cell_type": "markdown",
   "metadata": {},
   "source": [
    "Preliminaries, as usual."
   ]
  },
  {
   "cell_type": "code",
   "execution_count": 2,
   "metadata": {
    "collapsed": true
   },
   "outputs": [],
   "source": [
    "import os\n",
    "import datetime\n",
    "import time\n",
    "\n",
    "import numpy as np\n",
    "import pandas as pd\n",
    "\n",
    "\n",
    "from sklearn import tree\n",
    "from sklearn.ensemble import RandomForestClassifier\n",
    "from sklearn.model_selection import train_test_split\n",
    "\n",
    "from sklearn.metrics import classification_report,confusion_matrix\n",
    "from sklearn.externals import joblib\n",
    "\n",
    "# remove warnings\n",
    "import warnings\n",
    "warnings.filterwarnings('ignore')\n",
    "pd.options.mode.chained_assignment = None\n",
    "# ---\n",
    "\n",
    "pd.options.display.max_columns= 2000\n",
    "\n",
    "%matplotlib inline"
   ]
  },
  {
   "cell_type": "code",
   "execution_count": 23,
   "metadata": {
    "collapsed": true
   },
   "outputs": [],
   "source": [
    "datafile=\"1M-dataf-categorical-all.csv\"\n",
    "modelfile=\"1M-dataf-categorical-all-RFclf.pkl\""
   ]
  },
  {
   "cell_type": "code",
   "execution_count": 24,
   "metadata": {
    "collapsed": true
   },
   "outputs": [],
   "source": [
    "data=pd.read_csv(datafile)"
   ]
  },
  {
   "cell_type": "code",
   "execution_count": 19,
   "metadata": {
    "collapsed": true
   },
   "outputs": [],
   "source": [
    "clf = joblib.load(modelfile) "
   ]
  },
  {
   "cell_type": "code",
   "execution_count": 25,
   "metadata": {},
   "outputs": [],
   "source": [
    "target=data.liked\n",
    "features=data.drop('liked', axis=1)"
   ]
  },
  {
   "cell_type": "code",
   "execution_count": 26,
   "metadata": {},
   "outputs": [
    {
     "name": "stdout",
     "output_type": "stream",
     "text": [
      "Accuracy: 96.66%\n"
     ]
    }
   ],
   "source": [
    "pred = clf.predict(features)\n",
    "print(\"Accuracy: {:.2%}\".format((target.values==pred).mean()))"
   ]
  },
  {
   "cell_type": "code",
   "execution_count": 27,
   "metadata": {},
   "outputs": [
    {
     "name": "stdout",
     "output_type": "stream",
     "text": [
      " True Negative 323571 (93.80%)\n",
      "False Positive 1589 (0.46%)\n",
      "False Negative 9924 (2.88%)\n",
      " True Positive 9867 (2.86%)\n"
     ]
    }
   ],
   "source": [
    "aq1=(target.values==pred)&(target.values==0)\n",
    "aq2=(target.values!=pred)&(target.values==0)\n",
    "aq3=(target.values!=pred)&(target.values==1)\n",
    "aq4=(target.values==pred)&(target.values==1)\n",
    "print \" True Negative {} ({:.2%})\".format(aq1.sum(), aq1.mean())\n",
    "print \"False Positive {} ({:.2%})\".format(aq2.sum(), aq2.mean())\n",
    "print \"False Negative {} ({:.2%})\".format(aq3.sum(), aq3.mean())\n",
    "print \" True Positive {} ({:.2%})\".format(aq4.sum(), aq4.mean())"
   ]
  },
  {
   "cell_type": "code",
   "execution_count": 9,
   "metadata": {
    "collapsed": true
   },
   "outputs": [],
   "source": [
    "#clf.score(test_features,test_target)\n",
    "#pred_RandomForestClassifier_prob = calsfr_t.predict_proba(test_features)\n",
    "#confusion_matrix(y_test,predictions)\n",
    "#classification_report(y_test,predictions)"
   ]
  }
 ],
 "metadata": {
  "kernelspec": {
   "display_name": "Python 2",
   "language": "python",
   "name": "python2"
  },
  "language_info": {
   "codemirror_mode": {
    "name": "ipython",
    "version": 2
   },
   "file_extension": ".py",
   "mimetype": "text/x-python",
   "name": "python",
   "nbconvert_exporter": "python",
   "pygments_lexer": "ipython2",
   "version": "2.7.12"
  }
 },
 "nbformat": 4,
 "nbformat_minor": 2
}
