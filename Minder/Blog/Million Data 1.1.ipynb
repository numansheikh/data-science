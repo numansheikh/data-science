{
 "cells": [
  {
   "cell_type": "markdown",
   "metadata": {},
   "source": [
    "# Million Rows Data Analysis"
   ]
  },
  {
   "cell_type": "markdown",
   "metadata": {},
   "source": [
    "## Part I: Separating broad categories, Gender based behavior"
   ]
  },
  {
   "cell_type": "markdown",
   "metadata": {},
   "source": [
    "Preliminaries, as usual."
   ]
  },
  {
   "cell_type": "code",
   "execution_count": 1,
   "metadata": {
    "collapsed": true
   },
   "outputs": [],
   "source": [
    "import os\n",
    "import datetime\n",
    "\n",
    "import numpy as np\n",
    "import pandas as pd\n",
    "\n",
    "import matplotlib.pyplot as plt\n",
    "import seaborn as sns\n",
    "\n",
    "from sklearn import tree\n",
    "from sklearn.ensemble import RandomForestClassifier\n",
    "from sklearn.model_selection import train_test_split\n",
    "\n",
    "\n",
    "\n",
    "# remove warnings\n",
    "import warnings\n",
    "warnings.filterwarnings('ignore')\n",
    "pd.options.mode.chained_assignment = None\n",
    "# ---\n",
    "\n",
    "pd.options.display.max_columns= 2000\n",
    "\n",
    "%matplotlib inline"
   ]
  },
  {
   "cell_type": "code",
   "execution_count": 2,
   "metadata": {
    "collapsed": true
   },
   "outputs": [],
   "source": [
    "data=pd.read_csv(\"1M.csv\")"
   ]
  },
  {
   "cell_type": "code",
   "execution_count": 3,
   "metadata": {},
   "outputs": [
    {
     "name": "stdout",
     "output_type": "stream",
     "text": [
      "(1000000, 27)\n"
     ]
    },
    {
     "data": {
      "text/html": [
       "<div>\n",
       "<style>\n",
       "    .dataframe thead tr:only-child th {\n",
       "        text-align: right;\n",
       "    }\n",
       "\n",
       "    .dataframe thead th {\n",
       "        text-align: left;\n",
       "    }\n",
       "\n",
       "    .dataframe tbody tr th {\n",
       "        vertical-align: top;\n",
       "    }\n",
       "</style>\n",
       "<table border=\"1\" class=\"dataframe\">\n",
       "  <thead>\n",
       "    <tr style=\"text-align: right;\">\n",
       "      <th></th>\n",
       "      <th>p1_liked</th>\n",
       "      <th>p2_liked</th>\n",
       "      <th>confirmed</th>\n",
       "      <th>unmatched</th>\n",
       "      <th>answeredFromTelegram</th>\n",
       "      <th>p1_id</th>\n",
       "      <th>p1_country</th>\n",
       "      <th>p1_gender</th>\n",
       "      <th>p1_education</th>\n",
       "      <th>p1_flavor</th>\n",
       "      <th>p1_age</th>\n",
       "      <th>p1_timezone</th>\n",
       "      <th>p1_ethnicity</th>\n",
       "      <th>p1_languages</th>\n",
       "      <th>p1_religiosity</th>\n",
       "      <th>p1_premium</th>\n",
       "      <th>p2_id</th>\n",
       "      <th>p2_country</th>\n",
       "      <th>p2_gender</th>\n",
       "      <th>p2_education</th>\n",
       "      <th>p2_flavor</th>\n",
       "      <th>p2_age</th>\n",
       "      <th>p2_timezone</th>\n",
       "      <th>p2_ethnicity</th>\n",
       "      <th>p2_languages</th>\n",
       "      <th>p2_religiosity</th>\n",
       "      <th>p2_premium</th>\n",
       "    </tr>\n",
       "  </thead>\n",
       "  <tbody>\n",
       "    <tr>\n",
       "      <th>0</th>\n",
       "      <td>True</td>\n",
       "      <td>NaN</td>\n",
       "      <td>False</td>\n",
       "      <td>NaN</td>\n",
       "      <td>NaN</td>\n",
       "      <td>275037</td>\n",
       "      <td>US</td>\n",
       "      <td>male</td>\n",
       "      <td>college_degree</td>\n",
       "      <td>just_muslim</td>\n",
       "      <td>20.0</td>\n",
       "      <td>-5.0</td>\n",
       "      <td>{Other}</td>\n",
       "      <td>{English,Hindi,Spanish,Urdu}</td>\n",
       "      <td>1.907104</td>\n",
       "      <td>False</td>\n",
       "      <td>211070</td>\n",
       "      <td>US</td>\n",
       "      <td>female</td>\n",
       "      <td>undergraduate</td>\n",
       "      <td>NaN</td>\n",
       "      <td>19.0</td>\n",
       "      <td>-5.0</td>\n",
       "      <td>NaN</td>\n",
       "      <td>NaN</td>\n",
       "      <td>NaN</td>\n",
       "      <td>False</td>\n",
       "    </tr>\n",
       "    <tr>\n",
       "      <th>1</th>\n",
       "      <td>False</td>\n",
       "      <td>NaN</td>\n",
       "      <td>False</td>\n",
       "      <td>NaN</td>\n",
       "      <td>NaN</td>\n",
       "      <td>266873</td>\n",
       "      <td>CA</td>\n",
       "      <td>male</td>\n",
       "      <td>undergraduate</td>\n",
       "      <td>sunni</td>\n",
       "      <td>29.0</td>\n",
       "      <td>-4.0</td>\n",
       "      <td>{\"Arab (Levant)\"}</td>\n",
       "      <td>{Arabic,English}</td>\n",
       "      <td>NaN</td>\n",
       "      <td>False</td>\n",
       "      <td>277059</td>\n",
       "      <td>CA</td>\n",
       "      <td>female</td>\n",
       "      <td>undergraduate</td>\n",
       "      <td>sunni</td>\n",
       "      <td>28.0</td>\n",
       "      <td>-4.0</td>\n",
       "      <td>{\"Arab (North Africa)\"}</td>\n",
       "      <td>{Arabic,English}</td>\n",
       "      <td>2.813026</td>\n",
       "      <td>False</td>\n",
       "    </tr>\n",
       "    <tr>\n",
       "      <th>2</th>\n",
       "      <td>False</td>\n",
       "      <td>NaN</td>\n",
       "      <td>False</td>\n",
       "      <td>NaN</td>\n",
       "      <td>NaN</td>\n",
       "      <td>187197</td>\n",
       "      <td>US</td>\n",
       "      <td>male</td>\n",
       "      <td>college_degree</td>\n",
       "      <td>sunni</td>\n",
       "      <td>25.0</td>\n",
       "      <td>-4.0</td>\n",
       "      <td>{\"East Asian\"}</td>\n",
       "      <td>{Urdu,English}</td>\n",
       "      <td>3.563876</td>\n",
       "      <td>True</td>\n",
       "      <td>109326</td>\n",
       "      <td>US</td>\n",
       "      <td>female</td>\n",
       "      <td>undergraduate</td>\n",
       "      <td>sunni</td>\n",
       "      <td>21.0</td>\n",
       "      <td>-5.0</td>\n",
       "      <td>{\"East Asian\",\"South Asian\"}</td>\n",
       "      <td>{Arabic,Bengali,English,Hindi,Spanish,Urdu}</td>\n",
       "      <td>4.000000</td>\n",
       "      <td>False</td>\n",
       "    </tr>\n",
       "    <tr>\n",
       "      <th>3</th>\n",
       "      <td>False</td>\n",
       "      <td>NaN</td>\n",
       "      <td>False</td>\n",
       "      <td>NaN</td>\n",
       "      <td>NaN</td>\n",
       "      <td>151606</td>\n",
       "      <td>US</td>\n",
       "      <td>male</td>\n",
       "      <td>graduate_degree</td>\n",
       "      <td>sunni</td>\n",
       "      <td>26.0</td>\n",
       "      <td>-5.0</td>\n",
       "      <td>{\"South Asian\"}</td>\n",
       "      <td>{Bengali}</td>\n",
       "      <td>3.066176</td>\n",
       "      <td>False</td>\n",
       "      <td>181761</td>\n",
       "      <td>US</td>\n",
       "      <td>female</td>\n",
       "      <td>graduate_degree</td>\n",
       "      <td>sunni</td>\n",
       "      <td>26.0</td>\n",
       "      <td>-4.0</td>\n",
       "      <td>{\"South Asian\"}</td>\n",
       "      <td>{Bengali,English,Hindi,Urdu}</td>\n",
       "      <td>2.923377</td>\n",
       "      <td>False</td>\n",
       "    </tr>\n",
       "    <tr>\n",
       "      <th>4</th>\n",
       "      <td>False</td>\n",
       "      <td>NaN</td>\n",
       "      <td>False</td>\n",
       "      <td>NaN</td>\n",
       "      <td>NaN</td>\n",
       "      <td>266475</td>\n",
       "      <td>US</td>\n",
       "      <td>female</td>\n",
       "      <td>graduate_degree</td>\n",
       "      <td>sunni</td>\n",
       "      <td>26.0</td>\n",
       "      <td>-4.0</td>\n",
       "      <td>{\"South Asian\"}</td>\n",
       "      <td>{Bengali}</td>\n",
       "      <td>1.586521</td>\n",
       "      <td>False</td>\n",
       "      <td>213638</td>\n",
       "      <td>US</td>\n",
       "      <td>male</td>\n",
       "      <td>graduate_degree</td>\n",
       "      <td>NaN</td>\n",
       "      <td>NaN</td>\n",
       "      <td>-6.0</td>\n",
       "      <td>NaN</td>\n",
       "      <td>NaN</td>\n",
       "      <td>NaN</td>\n",
       "      <td>False</td>\n",
       "    </tr>\n",
       "    <tr>\n",
       "      <th>5</th>\n",
       "      <td>False</td>\n",
       "      <td>NaN</td>\n",
       "      <td>False</td>\n",
       "      <td>NaN</td>\n",
       "      <td>NaN</td>\n",
       "      <td>50334</td>\n",
       "      <td>US</td>\n",
       "      <td>female</td>\n",
       "      <td>college_degree</td>\n",
       "      <td>sunni</td>\n",
       "      <td>32.0</td>\n",
       "      <td>-4.0</td>\n",
       "      <td>{\"South Asian\",Other}</td>\n",
       "      <td>{Urdu}</td>\n",
       "      <td>3.556575</td>\n",
       "      <td>False</td>\n",
       "      <td>276866</td>\n",
       "      <td>US</td>\n",
       "      <td>male</td>\n",
       "      <td>college_degree</td>\n",
       "      <td>sunni</td>\n",
       "      <td>28.0</td>\n",
       "      <td>-4.0</td>\n",
       "      <td>NaN</td>\n",
       "      <td>NaN</td>\n",
       "      <td>NaN</td>\n",
       "      <td>False</td>\n",
       "    </tr>\n",
       "    <tr>\n",
       "      <th>6</th>\n",
       "      <td>False</td>\n",
       "      <td>NaN</td>\n",
       "      <td>False</td>\n",
       "      <td>NaN</td>\n",
       "      <td>NaN</td>\n",
       "      <td>278077</td>\n",
       "      <td>US</td>\n",
       "      <td>male</td>\n",
       "      <td>graduate_degree</td>\n",
       "      <td>sunni</td>\n",
       "      <td>39.0</td>\n",
       "      <td>-6.0</td>\n",
       "      <td>{\"Arab (North Africa)\"}</td>\n",
       "      <td>{French,Arabic,English}</td>\n",
       "      <td>NaN</td>\n",
       "      <td>False</td>\n",
       "      <td>273243</td>\n",
       "      <td>US</td>\n",
       "      <td>female</td>\n",
       "      <td>graduate_degree</td>\n",
       "      <td>sunni</td>\n",
       "      <td>24.0</td>\n",
       "      <td>-4.0</td>\n",
       "      <td>{\"South Asian\"}</td>\n",
       "      <td>{English,Urdu}</td>\n",
       "      <td>3.067278</td>\n",
       "      <td>False</td>\n",
       "    </tr>\n",
       "    <tr>\n",
       "      <th>7</th>\n",
       "      <td>False</td>\n",
       "      <td>NaN</td>\n",
       "      <td>False</td>\n",
       "      <td>NaN</td>\n",
       "      <td>NaN</td>\n",
       "      <td>268366</td>\n",
       "      <td>US</td>\n",
       "      <td>male</td>\n",
       "      <td>undergraduate</td>\n",
       "      <td>just_muslim</td>\n",
       "      <td>27.0</td>\n",
       "      <td>-7.0</td>\n",
       "      <td>{\"Arab (Levant)\"}</td>\n",
       "      <td>{Arabic}</td>\n",
       "      <td>2.271403</td>\n",
       "      <td>True</td>\n",
       "      <td>184951</td>\n",
       "      <td>US</td>\n",
       "      <td>female</td>\n",
       "      <td>NaN</td>\n",
       "      <td>NaN</td>\n",
       "      <td>26.0</td>\n",
       "      <td>-5.0</td>\n",
       "      <td>NaN</td>\n",
       "      <td>NaN</td>\n",
       "      <td>NaN</td>\n",
       "      <td>False</td>\n",
       "    </tr>\n",
       "    <tr>\n",
       "      <th>8</th>\n",
       "      <td>True</td>\n",
       "      <td>NaN</td>\n",
       "      <td>False</td>\n",
       "      <td>NaN</td>\n",
       "      <td>NaN</td>\n",
       "      <td>187197</td>\n",
       "      <td>US</td>\n",
       "      <td>male</td>\n",
       "      <td>college_degree</td>\n",
       "      <td>sunni</td>\n",
       "      <td>25.0</td>\n",
       "      <td>-4.0</td>\n",
       "      <td>{\"East Asian\"}</td>\n",
       "      <td>{Urdu,English}</td>\n",
       "      <td>3.563876</td>\n",
       "      <td>True</td>\n",
       "      <td>113907</td>\n",
       "      <td>CA</td>\n",
       "      <td>female</td>\n",
       "      <td>NaN</td>\n",
       "      <td>sunni</td>\n",
       "      <td>25.0</td>\n",
       "      <td>-5.0</td>\n",
       "      <td>{\"South Asian\"}</td>\n",
       "      <td>{English,French,Urdu}</td>\n",
       "      <td>3.000000</td>\n",
       "      <td>False</td>\n",
       "    </tr>\n",
       "    <tr>\n",
       "      <th>9</th>\n",
       "      <td>False</td>\n",
       "      <td>NaN</td>\n",
       "      <td>False</td>\n",
       "      <td>NaN</td>\n",
       "      <td>NaN</td>\n",
       "      <td>276574</td>\n",
       "      <td>CA</td>\n",
       "      <td>female</td>\n",
       "      <td>college_degree</td>\n",
       "      <td>shia</td>\n",
       "      <td>NaN</td>\n",
       "      <td>-4.0</td>\n",
       "      <td>{Other,\"Arab (Levant)\"}</td>\n",
       "      <td>{Arabic,English}</td>\n",
       "      <td>NaN</td>\n",
       "      <td>False</td>\n",
       "      <td>176010</td>\n",
       "      <td>US</td>\n",
       "      <td>male</td>\n",
       "      <td>graduate_degree</td>\n",
       "      <td>other</td>\n",
       "      <td>28.0</td>\n",
       "      <td>-5.0</td>\n",
       "      <td>{\"Arab (Levant)\"}</td>\n",
       "      <td>{English,Arabic}</td>\n",
       "      <td>1.932605</td>\n",
       "      <td>False</td>\n",
       "    </tr>\n",
       "  </tbody>\n",
       "</table>\n",
       "</div>"
      ],
      "text/plain": [
       "   p1_liked p2_liked confirmed unmatched answeredFromTelegram   p1_id  \\\n",
       "0      True      NaN     False       NaN                  NaN  275037   \n",
       "1     False      NaN     False       NaN                  NaN  266873   \n",
       "2     False      NaN     False       NaN                  NaN  187197   \n",
       "3     False      NaN     False       NaN                  NaN  151606   \n",
       "4     False      NaN     False       NaN                  NaN  266475   \n",
       "5     False      NaN     False       NaN                  NaN   50334   \n",
       "6     False      NaN     False       NaN                  NaN  278077   \n",
       "7     False      NaN     False       NaN                  NaN  268366   \n",
       "8      True      NaN     False       NaN                  NaN  187197   \n",
       "9     False      NaN     False       NaN                  NaN  276574   \n",
       "\n",
       "  p1_country p1_gender     p1_education    p1_flavor  p1_age  p1_timezone  \\\n",
       "0         US      male   college_degree  just_muslim    20.0         -5.0   \n",
       "1         CA      male    undergraduate        sunni    29.0         -4.0   \n",
       "2         US      male   college_degree        sunni    25.0         -4.0   \n",
       "3         US      male  graduate_degree        sunni    26.0         -5.0   \n",
       "4         US    female  graduate_degree        sunni    26.0         -4.0   \n",
       "5         US    female   college_degree        sunni    32.0         -4.0   \n",
       "6         US      male  graduate_degree        sunni    39.0         -6.0   \n",
       "7         US      male    undergraduate  just_muslim    27.0         -7.0   \n",
       "8         US      male   college_degree        sunni    25.0         -4.0   \n",
       "9         CA    female   college_degree         shia     NaN         -4.0   \n",
       "\n",
       "              p1_ethnicity                  p1_languages  p1_religiosity  \\\n",
       "0                  {Other}  {English,Hindi,Spanish,Urdu}        1.907104   \n",
       "1        {\"Arab (Levant)\"}              {Arabic,English}             NaN   \n",
       "2           {\"East Asian\"}                {Urdu,English}        3.563876   \n",
       "3          {\"South Asian\"}                     {Bengali}        3.066176   \n",
       "4          {\"South Asian\"}                     {Bengali}        1.586521   \n",
       "5    {\"South Asian\",Other}                        {Urdu}        3.556575   \n",
       "6  {\"Arab (North Africa)\"}       {French,Arabic,English}             NaN   \n",
       "7        {\"Arab (Levant)\"}                      {Arabic}        2.271403   \n",
       "8           {\"East Asian\"}                {Urdu,English}        3.563876   \n",
       "9  {Other,\"Arab (Levant)\"}              {Arabic,English}             NaN   \n",
       "\n",
       "   p1_premium   p2_id p2_country p2_gender     p2_education p2_flavor  p2_age  \\\n",
       "0       False  211070         US    female    undergraduate       NaN    19.0   \n",
       "1       False  277059         CA    female    undergraduate     sunni    28.0   \n",
       "2        True  109326         US    female    undergraduate     sunni    21.0   \n",
       "3       False  181761         US    female  graduate_degree     sunni    26.0   \n",
       "4       False  213638         US      male  graduate_degree       NaN     NaN   \n",
       "5       False  276866         US      male   college_degree     sunni    28.0   \n",
       "6       False  273243         US    female  graduate_degree     sunni    24.0   \n",
       "7        True  184951         US    female              NaN       NaN    26.0   \n",
       "8        True  113907         CA    female              NaN     sunni    25.0   \n",
       "9       False  176010         US      male  graduate_degree     other    28.0   \n",
       "\n",
       "   p2_timezone                  p2_ethnicity  \\\n",
       "0         -5.0                           NaN   \n",
       "1         -4.0       {\"Arab (North Africa)\"}   \n",
       "2         -5.0  {\"East Asian\",\"South Asian\"}   \n",
       "3         -4.0               {\"South Asian\"}   \n",
       "4         -6.0                           NaN   \n",
       "5         -4.0                           NaN   \n",
       "6         -4.0               {\"South Asian\"}   \n",
       "7         -5.0                           NaN   \n",
       "8         -5.0               {\"South Asian\"}   \n",
       "9         -5.0             {\"Arab (Levant)\"}   \n",
       "\n",
       "                                  p2_languages  p2_religiosity  p2_premium  \n",
       "0                                          NaN             NaN       False  \n",
       "1                             {Arabic,English}        2.813026       False  \n",
       "2  {Arabic,Bengali,English,Hindi,Spanish,Urdu}        4.000000       False  \n",
       "3                 {Bengali,English,Hindi,Urdu}        2.923377       False  \n",
       "4                                          NaN             NaN       False  \n",
       "5                                          NaN             NaN       False  \n",
       "6                               {English,Urdu}        3.067278       False  \n",
       "7                                          NaN             NaN       False  \n",
       "8                        {English,French,Urdu}        3.000000       False  \n",
       "9                             {English,Arabic}        1.932605       False  "
      ]
     },
     "execution_count": 3,
     "metadata": {},
     "output_type": "execute_result"
    }
   ],
   "source": [
    "print data.shape\n",
    "data.head(10)"
   ]
  },
  {
   "cell_type": "markdown",
   "metadata": {},
   "source": [
    "### Removing useless columns"
   ]
  },
  {
   "cell_type": "code",
   "execution_count": 4,
   "metadata": {
    "collapsed": true
   },
   "outputs": [],
   "source": [
    "useless_columns=['answeredFromTelegram', 'confirmed',\n",
    "                   'p1_timezone', 'p2_timezone', 'unmatched']\n",
    "data.drop(useless_columns, axis=1, inplace=True)"
   ]
  },
  {
   "cell_type": "markdown",
   "metadata": {},
   "source": [
    "### Handeling [p2_liked]\n",
    "Since these rows are contain two sets of data, let us duplicate them, and then remerge them with main data after switching [p1\\_...] and [p2\\_...] data. That will make [p2_liked] useless and we will delete it."
   ]
  },
  {
   "cell_type": "code",
   "execution_count": 5,
   "metadata": {},
   "outputs": [
    {
     "name": "stdout",
     "output_type": "stream",
     "text": [
      "(43089, 22)\n"
     ]
    }
   ],
   "source": [
    "datap2=data[data.p2_liked>=0]\n",
    "print datap2.shape"
   ]
  },
  {
   "cell_type": "code",
   "execution_count": 6,
   "metadata": {},
   "outputs": [
    {
     "name": "stdout",
     "output_type": "stream",
     "text": [
      "['p1_age', 'p1_country', 'p1_education', 'p1_ethnicity', 'p1_flavor', 'p1_gender', 'p1_id', 'p1_languages', 'p1_liked', 'p1_premium', 'p1_religiosity', 'p2_age', 'p2_country', 'p2_education', 'p2_ethnicity', 'p2_flavor', 'p2_gender', 'p2_id', 'p2_languages', 'p2_liked', 'p2_premium', 'p2_religiosity']\n"
     ]
    }
   ],
   "source": [
    "print sorted(list(data))"
   ]
  },
  {
   "cell_type": "code",
   "execution_count": 7,
   "metadata": {
    "collapsed": true
   },
   "outputs": [],
   "source": [
    "p2_cols={'p1_age' :  'p2_age' ,\n",
    " 'p1_country' :  'p2_country' ,\n",
    " 'p1_education' :  'p2_education' ,\n",
    " 'p1_ethnicity' :  'p2_ethnicity' ,\n",
    " 'p1_flavor' :  'p2_flavor' ,\n",
    " 'p1_gender' :  'p2_gender' ,\n",
    " 'p1_id' :  'p2_id' ,\n",
    " 'p1_languages' :  'p2_languages' ,\n",
    " 'p1_liked' :  'p2_liked' ,\n",
    " 'p1_premium' :  'p2_premium' ,\n",
    " 'p1_religiosity' :  'p2_religiosity' ,\n",
    " 'p2_age' :  'p1_age' ,\n",
    " 'p2_country' :  'p1_country' ,\n",
    " 'p2_education' :  'p1_education' ,\n",
    " 'p2_ethnicity' :  'p1_ethnicity' ,\n",
    " 'p2_flavor' :  'p1_flavor' ,\n",
    " 'p2_gender' :  'p1_gender' ,\n",
    " 'p2_id' :  'p1_id' ,\n",
    " 'p2_languages' :  'p1_languages' ,\n",
    " 'p2_liked' :  'p1_liked' ,\n",
    " 'p2_premium' :  'p1_premium' ,\n",
    " 'p2_religiosity' :  'p1_religiosity' }\n",
    "datap2n= datap2.rename(columns=p2_cols)"
   ]
  },
  {
   "cell_type": "code",
   "execution_count": 8,
   "metadata": {},
   "outputs": [
    {
     "data": {
      "text/plain": [
       "(1043089, 22)"
      ]
     },
     "execution_count": 8,
     "metadata": {},
     "output_type": "execute_result"
    }
   ],
   "source": [
    "data2 = pd.concat([data, datap2n], axis=0);\n",
    "data2.shape"
   ]
  },
  {
   "cell_type": "code",
   "execution_count": 9,
   "metadata": {},
   "outputs": [
    {
     "data": {
      "text/plain": [
       "count     1043089\n",
       "unique          2\n",
       "top         False\n",
       "freq       614942\n",
       "Name: liked, dtype: object"
      ]
     },
     "execution_count": 9,
     "metadata": {},
     "output_type": "execute_result"
    }
   ],
   "source": [
    "data2= data2.rename(columns={'p1_liked':'liked'})\n",
    "data2.liked.describe()"
   ]
  },
  {
   "cell_type": "code",
   "execution_count": 10,
   "metadata": {},
   "outputs": [
    {
     "data": {
      "text/plain": [
       "(695762, 22)"
      ]
     },
     "execution_count": 10,
     "metadata": {},
     "output_type": "execute_result"
    }
   ],
   "source": [
    "datam=data2[(data2.p1_gender=='male') & (data2.p2_gender=='female')]\n",
    "datam.shape"
   ]
  },
  {
   "cell_type": "code",
   "execution_count": 11,
   "metadata": {},
   "outputs": [
    {
     "data": {
      "text/plain": [
       "(344951, 22)"
      ]
     },
     "execution_count": 11,
     "metadata": {},
     "output_type": "execute_result"
    }
   ],
   "source": [
    "dataf=data2[(data2.p1_gender=='female') & (data2.p2_gender=='male')]\n",
    "dataf.shape"
   ]
  },
  {
   "cell_type": "markdown",
   "metadata": {},
   "source": [
    "So the following rows will be ignored, and we will train the classifiers independantly for men vs women."
   ]
  },
  {
   "cell_type": "code",
   "execution_count": 12,
   "metadata": {},
   "outputs": [
    {
     "data": {
      "text/plain": [
       "(2376, 22)"
      ]
     },
     "execution_count": 12,
     "metadata": {},
     "output_type": "execute_result"
    }
   ],
   "source": [
    "data2[((data2.p1_gender!='male')|(data2.p2_gender!='female')) & ((data2.p1_gender!='female')|(data2.p2_gender!='male'))].shape"
   ]
  },
  {
   "cell_type": "code",
   "execution_count": 13,
   "metadata": {},
   "outputs": [
    {
     "data": {
      "text/plain": [
       "count     695762\n",
       "unique         1\n",
       "top         male\n",
       "freq      695762\n",
       "Name: p1_gender, dtype: object"
      ]
     },
     "execution_count": 13,
     "metadata": {},
     "output_type": "execute_result"
    }
   ],
   "source": [
    "datam.p1_gender.describe()"
   ]
  },
  {
   "cell_type": "markdown",
   "metadata": {},
   "source": [
    "Removing more useless columns."
   ]
  },
  {
   "cell_type": "code",
   "execution_count": 14,
   "metadata": {
    "collapsed": true
   },
   "outputs": [],
   "source": [
    "useless_columns=['p1_gender', 'p2_gender', 'p2_liked', 'p1_id', 'p2_id']\n",
    "datam.drop(useless_columns, axis=1, inplace=True)\n",
    "dataf.drop(useless_columns, axis=1, inplace=True)"
   ]
  },
  {
   "cell_type": "code",
   "execution_count": 15,
   "metadata": {},
   "outputs": [
    {
     "name": "stdout",
     "output_type": "stream",
     "text": [
      "(695762, 17)\n",
      "(344951, 17)\n"
     ]
    }
   ],
   "source": [
    "print datam.shape\n",
    "print dataf.shape"
   ]
  },
  {
   "cell_type": "markdown",
   "metadata": {},
   "source": [
    "## Behavior analysis\n",
    "Here is a rationale of separating the two data sets. Their behavior is completely different."
   ]
  },
  {
   "cell_type": "code",
   "execution_count": 16,
   "metadata": {},
   "outputs": [
    {
     "data": {
      "image/png": "[encoded data removed]",
      "text/plain": [
       "<matplotlib.figure.Figure at 0x7f3578345850>"
      ]
     },
     "metadata": {},
     "output_type": "display_data"
    }
   ],
   "source": [
    "dmvc = datam.liked.value_counts()\n",
    "dfvc = dataf.liked.value_counts()\n",
    "df = pd.DataFrame([dmvc,dfvc])\n",
    "df.index = ['Males','Females']\n",
    "df.plot(kind='bar', stacked=True);"
   ]
  },
  {
   "cell_type": "code",
   "execution_count": 17,
   "metadata": {},
   "outputs": [
    {
     "data": {
      "image/png": "[encoded data removed]",
      "text/plain": [
       "<matplotlib.figure.Figure at 0x7f35783b46d0>"
      ]
     },
     "metadata": {},
     "output_type": "display_data"
    }
   ],
   "source": [
    "dmm = datam.liked.mean()\n",
    "dfm = dataf.liked.mean()\n",
    "df = pd.DataFrame([dmm,dfm])\n",
    "df.index = ['Males','Females']\n",
    "df.plot(kind='bar', stacked=True);"
   ]
  },
  {
   "cell_type": "code",
   "execution_count": 18,
   "metadata": {},
   "outputs": [
    {
     "name": "stdout",
     "output_type": "stream",
     "text": [
      " True  liked values - Males-  408099 (58.65%)\n",
      " True  liked values - Females-  19791 (5.74%)\n"
     ]
    }
   ],
   "source": [
    "print \" True  liked values - Males-  {} ({:.2%})\".format(datam.liked.sum(), datam.liked.mean())\n",
    "print \" True  liked values - Females-  {} ({:.2%})\".format(dataf.liked.sum(), dataf.liked.mean())\n"
   ]
  },
  {
   "cell_type": "markdown",
   "metadata": {},
   "source": [
    "**Save** now , and let the analysis continue on separate data sets."
   ]
  },
  {
   "cell_type": "code",
   "execution_count": 19,
   "metadata": {
    "collapsed": true
   },
   "outputs": [],
   "source": [
    "datam.to_csv(\"1M-datam.csv\", index=False)\n",
    "dataf.to_csv(\"1M-dataf.csv\", index=False)"
   ]
  },
  {
   "cell_type": "markdown",
   "metadata": {},
   "source": [
    "Males like 58.65% of the profiles shown to them, whereas females like only 5.7%. Even less than **one-tenth** compared to males."
   ]
  }
 ],
 "metadata": {
  "kernelspec": {
   "display_name": "Python 2",
   "language": "python",
   "name": "python2"
  },
  "language_info": {
   "codemirror_mode": {
    "name": "ipython",
    "version": 2
   },
   "file_extension": ".py",
   "mimetype": "text/x-python",
   "name": "python",
   "nbconvert_exporter": "python",
   "pygments_lexer": "ipython2",
   "version": "2.7.12"
  }
 },
 "nbformat": 4,
 "nbformat_minor": 2
}
